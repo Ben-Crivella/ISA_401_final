{
 "cells": [
  {
   "cell_type": "code",
   "execution_count": 1,
   "metadata": {},
   "outputs": [],
   "source": [
    "import requests\n",
    "import pandas as pd\n",
    "from datetime import datetime, timedelta\n",
    "\n",
    "url = \"https://data-api.cryptocompare.com/futures/v1/latest/tick?market=bybit&instruments=ETH-USD-INVERSE-PERPETUAL\"\n",
    "api_key = \"fb1c1304ec08f8514b98c72e3161a8bdba361313a9f0034682c4a321e975189c\"\n",
    "\n",
    "headers = {\n",
    "    \"Authorization\": f\"Apikey {api_key}\"\n",
    "}\n",
    "\n",
    "start_date = datetime(2024, 10, 6)\n",
    "end_date = datetime.now()\n",
    "\n",
    "current_date = start_date\n",
    "all_data = []\n",
    "\n",
    "while current_date <= end_date:\n",
    "    response = requests.get(url, headers=headers)\n",
    "\n",
    "    if response.status_code == 200:\n",
    "        data = response.json()\n",
    "        data['date'] = current_date.strftime('%Y-%m-%d')\n",
    "        all_data.append(data)\n",
    "    else:\n",
    "        print(f\"Error on {current_date.strftime('%Y-%m-%d')}: {response.status_code}\")\n",
    "\n",
    "    current_date += timedelta(days=1)\n",
    "\n",
    "# Convert list of dictionaries to DataFrame\n",
    "df = pd.DataFrame(all_data)\n",
    "\n",
    "# Write to CSV\n",
    "df.to_csv(\"crypto_data_eth.csv\", index=False)"
   ]
  },
  {
   "cell_type": "code",
   "execution_count": 2,
   "metadata": {},
   "outputs": [],
   "source": [
    "import pandas as pd\n",
    "import json\n",
    "\n",
    "# Read the CSV file\n",
    "df = pd.read_csv(\"crypto_data_eth.csv\")\n",
    "\n",
    "# Parse the JSON data\n",
    "df['Data'] = df['Data'].apply(lambda x: json.loads(x.replace(\"'\", \"\\\"\")))\n",
    "\n",
    "# Normalize the JSON data into a flat table\n",
    "parsed_data = pd.json_normalize(df['Data'])\n",
    "\n",
    "# Concatenate the parsed data with the original DataFrame\n",
    "final_df = pd.concat([df.drop(columns=['Data']), parsed_data], axis=1)\n",
    "\n",
    "# Write the parsed data to a new CSV file\n",
    "final_df.to_csv(\"final_eth.csv\", index=False)"
   ]
  },
  {
   "cell_type": "code",
   "execution_count": null,
   "metadata": {},
   "outputs": [],
   "source": []
  }
 ],
 "metadata": {
  "kernelspec": {
   "display_name": "Python 3",
   "language": "python",
   "name": "python3"
  },
  "language_info": {
   "codemirror_mode": {
    "name": "ipython",
    "version": 3
   },
   "file_extension": ".py",
   "mimetype": "text/x-python",
   "name": "python",
   "nbconvert_exporter": "python",
   "pygments_lexer": "ipython3",
   "version": "3.7.16"
  }
 },
 "nbformat": 4,
 "nbformat_minor": 4
}
